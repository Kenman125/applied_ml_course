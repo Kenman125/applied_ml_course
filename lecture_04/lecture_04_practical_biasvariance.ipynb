{
 "cells": [
  {
   "cell_type": "code",
   "execution_count": 1,
   "id": "872ec4d8",
   "metadata": {},
   "outputs": [],
   "source": [
    "import numpy as np\n",
    "import pandas as pd\n",
    "from sklearn.tree import DecisionTreeClassifier\n",
    "from sklearn.metrics import roc_auc_score\n",
    "from sklearn.model_selection import train_test_split"
   ]
  },
  {
   "cell_type": "code",
   "execution_count": 2,
   "id": "d1a4ac46",
   "metadata": {},
   "outputs": [],
   "source": [
    "signal = pd.Series(np.random.uniform(-1,1,10000))\n",
    "noise = pd.Series(np.random.uniform(-1,1,10000))"
   ]
  },
  {
   "cell_type": "code",
   "execution_count": 3,
   "id": "9eebbd30",
   "metadata": {},
   "outputs": [],
   "source": [
    "df = pd.DataFrame({'signal': signal, 'noise': noise})"
   ]
  },
  {
   "cell_type": "code",
   "execution_count": 4,
   "id": "0face3e4",
   "metadata": {},
   "outputs": [],
   "source": [
    "df['y_prob'] = pd.Series([abs((x+1)*x*(x-1)) for x in df['signal']])"
   ]
  },
  {
   "cell_type": "code",
   "execution_count": 5,
   "id": "02403b84",
   "metadata": {},
   "outputs": [],
   "source": [
    "df['y'] = pd.Series(np.random.binomial(1, df['y_prob']))"
   ]
  },
  {
   "cell_type": "code",
   "execution_count": 6,
   "id": "e528d2de",
   "metadata": {},
   "outputs": [
    {
     "data": {
      "text/html": [
       "<div>\n",
       "<style scoped>\n",
       "    .dataframe tbody tr th:only-of-type {\n",
       "        vertical-align: middle;\n",
       "    }\n",
       "\n",
       "    .dataframe tbody tr th {\n",
       "        vertical-align: top;\n",
       "    }\n",
       "\n",
       "    .dataframe thead th {\n",
       "        text-align: right;\n",
       "    }\n",
       "</style>\n",
       "<table border=\"1\" class=\"dataframe\">\n",
       "  <thead>\n",
       "    <tr style=\"text-align: right;\">\n",
       "      <th></th>\n",
       "      <th>signal</th>\n",
       "      <th>noise</th>\n",
       "      <th>y_prob</th>\n",
       "      <th>y</th>\n",
       "    </tr>\n",
       "  </thead>\n",
       "  <tbody>\n",
       "    <tr>\n",
       "      <th>0</th>\n",
       "      <td>0.181518</td>\n",
       "      <td>0.441392</td>\n",
       "      <td>0.175537</td>\n",
       "      <td>0</td>\n",
       "    </tr>\n",
       "    <tr>\n",
       "      <th>1</th>\n",
       "      <td>-0.704528</td>\n",
       "      <td>0.420588</td>\n",
       "      <td>0.354829</td>\n",
       "      <td>0</td>\n",
       "    </tr>\n",
       "    <tr>\n",
       "      <th>2</th>\n",
       "      <td>-0.313320</td>\n",
       "      <td>-0.889433</td>\n",
       "      <td>0.282562</td>\n",
       "      <td>1</td>\n",
       "    </tr>\n",
       "    <tr>\n",
       "      <th>3</th>\n",
       "      <td>-0.357486</td>\n",
       "      <td>0.519803</td>\n",
       "      <td>0.311800</td>\n",
       "      <td>0</td>\n",
       "    </tr>\n",
       "    <tr>\n",
       "      <th>4</th>\n",
       "      <td>-0.347017</td>\n",
       "      <td>-0.366137</td>\n",
       "      <td>0.305229</td>\n",
       "      <td>0</td>\n",
       "    </tr>\n",
       "    <tr>\n",
       "      <th>5</th>\n",
       "      <td>-0.123380</td>\n",
       "      <td>-0.318498</td>\n",
       "      <td>0.121502</td>\n",
       "      <td>0</td>\n",
       "    </tr>\n",
       "    <tr>\n",
       "      <th>6</th>\n",
       "      <td>-0.266090</td>\n",
       "      <td>0.791423</td>\n",
       "      <td>0.247250</td>\n",
       "      <td>0</td>\n",
       "    </tr>\n",
       "    <tr>\n",
       "      <th>7</th>\n",
       "      <td>-0.324321</td>\n",
       "      <td>0.149351</td>\n",
       "      <td>0.290207</td>\n",
       "      <td>0</td>\n",
       "    </tr>\n",
       "    <tr>\n",
       "      <th>8</th>\n",
       "      <td>-0.653491</td>\n",
       "      <td>-0.243934</td>\n",
       "      <td>0.374417</td>\n",
       "      <td>0</td>\n",
       "    </tr>\n",
       "    <tr>\n",
       "      <th>9</th>\n",
       "      <td>-0.097262</td>\n",
       "      <td>0.420380</td>\n",
       "      <td>0.096342</td>\n",
       "      <td>0</td>\n",
       "    </tr>\n",
       "    <tr>\n",
       "      <th>10</th>\n",
       "      <td>0.428516</td>\n",
       "      <td>0.348521</td>\n",
       "      <td>0.349829</td>\n",
       "      <td>1</td>\n",
       "    </tr>\n",
       "    <tr>\n",
       "      <th>11</th>\n",
       "      <td>-0.403614</td>\n",
       "      <td>0.361731</td>\n",
       "      <td>0.337864</td>\n",
       "      <td>0</td>\n",
       "    </tr>\n",
       "    <tr>\n",
       "      <th>12</th>\n",
       "      <td>0.268045</td>\n",
       "      <td>-0.277196</td>\n",
       "      <td>0.248787</td>\n",
       "      <td>1</td>\n",
       "    </tr>\n",
       "    <tr>\n",
       "      <th>13</th>\n",
       "      <td>0.900175</td>\n",
       "      <td>-0.080456</td>\n",
       "      <td>0.170750</td>\n",
       "      <td>1</td>\n",
       "    </tr>\n",
       "    <tr>\n",
       "      <th>14</th>\n",
       "      <td>0.897150</td>\n",
       "      <td>-0.437301</td>\n",
       "      <td>0.175054</td>\n",
       "      <td>0</td>\n",
       "    </tr>\n",
       "    <tr>\n",
       "      <th>15</th>\n",
       "      <td>-0.997417</td>\n",
       "      <td>0.441468</td>\n",
       "      <td>0.005147</td>\n",
       "      <td>0</td>\n",
       "    </tr>\n",
       "    <tr>\n",
       "      <th>16</th>\n",
       "      <td>-0.210201</td>\n",
       "      <td>0.364941</td>\n",
       "      <td>0.200913</td>\n",
       "      <td>0</td>\n",
       "    </tr>\n",
       "    <tr>\n",
       "      <th>17</th>\n",
       "      <td>0.798839</td>\n",
       "      <td>0.871046</td>\n",
       "      <td>0.289065</td>\n",
       "      <td>0</td>\n",
       "    </tr>\n",
       "    <tr>\n",
       "      <th>18</th>\n",
       "      <td>-0.500836</td>\n",
       "      <td>-0.740528</td>\n",
       "      <td>0.375208</td>\n",
       "      <td>1</td>\n",
       "    </tr>\n",
       "    <tr>\n",
       "      <th>19</th>\n",
       "      <td>-0.523191</td>\n",
       "      <td>-0.204160</td>\n",
       "      <td>0.379978</td>\n",
       "      <td>0</td>\n",
       "    </tr>\n",
       "  </tbody>\n",
       "</table>\n",
       "</div>"
      ],
      "text/plain": [
       "      signal     noise    y_prob  y\n",
       "0   0.181518  0.441392  0.175537  0\n",
       "1  -0.704528  0.420588  0.354829  0\n",
       "2  -0.313320 -0.889433  0.282562  1\n",
       "3  -0.357486  0.519803  0.311800  0\n",
       "4  -0.347017 -0.366137  0.305229  0\n",
       "5  -0.123380 -0.318498  0.121502  0\n",
       "6  -0.266090  0.791423  0.247250  0\n",
       "7  -0.324321  0.149351  0.290207  0\n",
       "8  -0.653491 -0.243934  0.374417  0\n",
       "9  -0.097262  0.420380  0.096342  0\n",
       "10  0.428516  0.348521  0.349829  1\n",
       "11 -0.403614  0.361731  0.337864  0\n",
       "12  0.268045 -0.277196  0.248787  1\n",
       "13  0.900175 -0.080456  0.170750  1\n",
       "14  0.897150 -0.437301  0.175054  0\n",
       "15 -0.997417  0.441468  0.005147  0\n",
       "16 -0.210201  0.364941  0.200913  0\n",
       "17  0.798839  0.871046  0.289065  0\n",
       "18 -0.500836 -0.740528  0.375208  1\n",
       "19 -0.523191 -0.204160  0.379978  0"
      ]
     },
     "execution_count": 6,
     "metadata": {},
     "output_type": "execute_result"
    }
   ],
   "source": [
    "df.head(20)"
   ]
  },
  {
   "cell_type": "code",
   "execution_count": 7,
   "id": "83943dbd",
   "metadata": {},
   "outputs": [],
   "source": [
    "X = df[['signal', 'noise']]\n",
    "y = df['y']\n",
    "X_train, X_test, y_train, y_test = train_test_split(X, y, test_size=0.2, random_state=4)"
   ]
  },
  {
   "cell_type": "code",
   "execution_count": 8,
   "id": "6e864ddb",
   "metadata": {},
   "outputs": [],
   "source": [
    "max_depth_list = list(range(1,30))"
   ]
  },
  {
   "cell_type": "code",
   "execution_count": 10,
   "id": "edc3931d",
   "metadata": {},
   "outputs": [],
   "source": [
    "bv_dict = {'error': [],\n",
    "           'max_depth': [],\n",
    "           'type': []}\n",
    "\n",
    "for md in max_depth_list:\n",
    "    dt_clf = DecisionTreeClassifier(max_depth=md)\n",
    "    dt_clf.fit(X_train, y_train)\n",
    "\n",
    "    preds_train = dt_clf.predict_proba(X_train)[:,1]\n",
    "    bv_dict['error'].append(1 - roc_auc_score(y_train, preds_train))\n",
    "    bv_dict['type'].append('train')\n",
    "    bv_dict['max_depth'].append(md)\n",
    "\n",
    "    preds_test = dt_clf.predict_proba(X_test)[:,1]\n",
    "    bv_dict['error'].append(1 - roc_auc_score(y_test, preds_test))\n",
    "    bv_dict['type'].append('test')\n",
    "    bv_dict['max_depth'].append(md)"
   ]
  },
  {
   "cell_type": "code",
   "execution_count": 11,
   "id": "6ade2ee8",
   "metadata": {},
   "outputs": [],
   "source": [
    "bv_df = pd.DataFrame(bv_dict)"
   ]
  },
  {
   "cell_type": "code",
   "execution_count": 12,
   "id": "297b0d49",
   "metadata": {},
   "outputs": [
    {
     "data": {
      "text/plain": [
       "<AxesSubplot: xlabel='max_depth', ylabel='error'>"
      ]
     },
     "execution_count": 12,
     "metadata": {},
     "output_type": "execute_result"
    },
    {
     "data": {
      "image/png": "[encoded data removed]",
      "text/plain": [
       "<Figure size 432x288 with 1 Axes>"
      ]
     },
     "metadata": {
      "needs_background": "light"
     },
     "output_type": "display_data"
    }
   ],
   "source": [
    "#!pip install seaborn\n",
    "import seaborn as sns\n",
    "sns.set_theme(style=\"darkgrid\")\n",
    "\n",
    "# Load an example dataset with long-form data\n",
    "\n",
    "# Plot the responses for different events and regions\n",
    "sns.lineplot(x=\"max_depth\", y=\"error\",\n",
    "             hue=\"type\",\n",
    "             data=bv_df)"
   ]
  },
  {
   "cell_type": "code",
   "execution_count": null,
   "id": "e622a038",
   "metadata": {},
   "outputs": [],
   "source": []
  }
 ],
 "metadata": {
  "kernelspec": {
   "display_name": "dsba6156",
   "language": "python",
   "name": "dsba6156"
  },
  "language_info": {
   "codemirror_mode": {
    "name": "ipython",
    "version": 3
   },
   "file_extension": ".py",
   "mimetype": "text/x-python",
   "name": "python",
   "nbconvert_exporter": "python",
   "pygments_lexer": "ipython3",
   "version": "3.10.5"
  },
  "vscode": {
   "interpreter": {
    "hash": "700e8905a25f0f50942face02160144e5109d3578cd646c4a56141009e7b2bb8"
   }
  }
 },
 "nbformat": 4,
 "nbformat_minor": 5
}
