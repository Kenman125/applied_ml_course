{
 "cells": [
  {
   "cell_type": "code",
   "execution_count": 1,
   "id": "529239e1",
   "metadata": {},
   "outputs": [],
   "source": [
    "import pandas as pd\n",
    "from sklearn.model_selection import train_test_split\n",
    "\n",
    "from sklearn.preprocessing import OneHotEncoder\n",
    "from sklearn.impute import SimpleImputer\n",
    "from sklearn.compose import ColumnTransformer\n",
    "from sklearn.pipeline import Pipeline\n",
    "from sklearn.model_selection import GridSearchCV\n",
    "\n",
    "from sklearn.linear_model import LogisticRegression\n",
    "from sklearn.ensemble import GradientBoostingClassifier, RandomForestClassifier\n",
    "from sklearn.metrics import roc_auc_score, confusion_matrix, RocCurveDisplay\n",
    "import matplotlib.pyplot as plt"
   ]
  },
  {
   "cell_type": "code",
   "execution_count": 2,
   "id": "435c2dcc",
   "metadata": {},
   "outputs": [],
   "source": [
    "pd.set_option('display.max_rows', 500)"
   ]
  },
  {
   "cell_type": "code",
   "execution_count": 3,
   "id": "11d1000e",
   "metadata": {},
   "outputs": [],
   "source": [
    "df = pd.read_csv('../lecture_03/lecture_03_data.csv',\n",
    "                names = ['age',\n",
    "                         'workclass',\n",
    "                         'fnlwgt',\n",
    "                         'education',\n",
    "                         'education-num',\n",
    "                         'marital-status',\n",
    "                         'occupation',\n",
    "                         'relationship',\n",
    "                         'race',\n",
    "                         'sex',\n",
    "                         'capital-gain',\n",
    "                         'capital-loss',\n",
    "                         'hours-per-week',\n",
    "                         'native-country',\n",
    "                         'income'])"
   ]
  },
  {
   "cell_type": "code",
   "execution_count": 4,
   "id": "2f4c1c8f",
   "metadata": {},
   "outputs": [],
   "source": [
    "num_vars = ['age', 'fnlwgt', 'education-num', 'capital-gain', 'capital-loss', 'hours-per-week']\n",
    "cat_vars = ['workclass', 'education', 'marital-status', 'occupation', 'relationship', 'race', 'sex', 'native-country']\n",
    "target = 'income'"
   ]
  },
  {
   "cell_type": "code",
   "execution_count": 5,
   "id": "983f5fb8",
   "metadata": {},
   "outputs": [],
   "source": [
    "X = df[num_vars + cat_vars]\n",
    "y = df[target].replace({' <=50K': 0, ' >50K': 1})\n",
    "X_train, X_test, y_train, y_test = train_test_split(X, y, test_size=0.2, random_state=4)"
   ]
  },
  {
   "cell_type": "code",
   "execution_count": 6,
   "id": "15a3b664",
   "metadata": {},
   "outputs": [],
   "source": [
    "numeric_tx = Pipeline(steps=[\n",
    "    ('imputer', SimpleImputer(strategy='median')),\n",
    "])\n",
    "cat_tx = Pipeline(steps=[\n",
    "    ('imputer', SimpleImputer(strategy='most_frequent')),\n",
    "    ('encoder', OneHotEncoder(handle_unknown='ignore'))\n",
    "])"
   ]
  },
  {
   "cell_type": "code",
   "execution_count": 7,
   "id": "72d37980",
   "metadata": {},
   "outputs": [],
   "source": [
    "preprocessor = ColumnTransformer(transformers=[\n",
    "    ('numeric', numeric_tx, num_vars),\n",
    "    ('categorical', cat_tx, cat_vars)\n",
    "])"
   ]
  },
  {
   "cell_type": "code",
   "execution_count": 8,
   "id": "d3d8594f",
   "metadata": {},
   "outputs": [],
   "source": [
    "param_grid = {'learning_rate': [0.1, 0.01], 'n_estimators': [100, 1000]}"
   ]
  },
  {
   "cell_type": "code",
   "execution_count": 10,
   "id": "f5f52ebf",
   "metadata": {},
   "outputs": [],
   "source": [
    "gbm = GradientBoostingClassifier()\n",
    "clf = GridSearchCV(gbm, param_grid, scoring='roc_auc')"
   ]
  },
  {
   "cell_type": "code",
   "execution_count": 11,
   "id": "cdcb8d40",
   "metadata": {},
   "outputs": [],
   "source": [
    "pipeline = Pipeline(steps=[('preprocessor', preprocessor), ('classifier', clf)])\n",
    "model_pipeline = pipeline.fit(X_train, y_train)\n",
    "preds = model_pipeline.predict_proba(X_test)"
   ]
  },
  {
   "cell_type": "code",
   "execution_count": 12,
   "id": "588d2119",
   "metadata": {},
   "outputs": [
    {
     "name": "stdout",
     "output_type": "stream",
     "text": [
      "0.9218368483233558\n"
     ]
    }
   ],
   "source": [
    "print(roc_auc_score(y_test, preds[:,1]))"
   ]
  },
  {
   "cell_type": "code",
   "execution_count": 13,
   "id": "14dd6585",
   "metadata": {},
   "outputs": [
    {
     "data": {
      "text/html": [
       "<div>\n",
       "<style scoped>\n",
       "    .dataframe tbody tr th:only-of-type {\n",
       "        vertical-align: middle;\n",
       "    }\n",
       "\n",
       "    .dataframe tbody tr th {\n",
       "        vertical-align: top;\n",
       "    }\n",
       "\n",
       "    .dataframe thead th {\n",
       "        text-align: right;\n",
       "    }\n",
       "</style>\n",
       "<table border=\"1\" class=\"dataframe\">\n",
       "  <thead>\n",
       "    <tr style=\"text-align: right;\">\n",
       "      <th></th>\n",
       "      <th>mean_fit_time</th>\n",
       "      <th>std_fit_time</th>\n",
       "      <th>mean_score_time</th>\n",
       "      <th>std_score_time</th>\n",
       "      <th>param_learning_rate</th>\n",
       "      <th>param_n_estimators</th>\n",
       "      <th>params</th>\n",
       "      <th>split0_test_score</th>\n",
       "      <th>split1_test_score</th>\n",
       "      <th>split2_test_score</th>\n",
       "      <th>split3_test_score</th>\n",
       "      <th>split4_test_score</th>\n",
       "      <th>mean_test_score</th>\n",
       "      <th>std_test_score</th>\n",
       "      <th>rank_test_score</th>\n",
       "    </tr>\n",
       "  </thead>\n",
       "  <tbody>\n",
       "    <tr>\n",
       "      <th>0</th>\n",
       "      <td>1.749145</td>\n",
       "      <td>0.041120</td>\n",
       "      <td>0.009388</td>\n",
       "      <td>0.000191</td>\n",
       "      <td>0.1</td>\n",
       "      <td>100</td>\n",
       "      <td>{'learning_rate': 0.1, 'n_estimators': 100}</td>\n",
       "      <td>0.917272</td>\n",
       "      <td>0.921858</td>\n",
       "      <td>0.919333</td>\n",
       "      <td>0.928066</td>\n",
       "      <td>0.927739</td>\n",
       "      <td>0.922854</td>\n",
       "      <td>0.004372</td>\n",
       "      <td>2</td>\n",
       "    </tr>\n",
       "    <tr>\n",
       "      <th>1</th>\n",
       "      <td>16.676295</td>\n",
       "      <td>0.410902</td>\n",
       "      <td>0.109577</td>\n",
       "      <td>0.001852</td>\n",
       "      <td>0.1</td>\n",
       "      <td>1000</td>\n",
       "      <td>{'learning_rate': 0.1, 'n_estimators': 1000}</td>\n",
       "      <td>0.925754</td>\n",
       "      <td>0.925980</td>\n",
       "      <td>0.924852</td>\n",
       "      <td>0.931898</td>\n",
       "      <td>0.931792</td>\n",
       "      <td>0.928055</td>\n",
       "      <td>0.003117</td>\n",
       "      <td>1</td>\n",
       "    </tr>\n",
       "    <tr>\n",
       "      <th>2</th>\n",
       "      <td>1.852213</td>\n",
       "      <td>0.043305</td>\n",
       "      <td>0.006351</td>\n",
       "      <td>0.000147</td>\n",
       "      <td>0.01</td>\n",
       "      <td>100</td>\n",
       "      <td>{'learning_rate': 0.01, 'n_estimators': 100}</td>\n",
       "      <td>0.888223</td>\n",
       "      <td>0.891827</td>\n",
       "      <td>0.885985</td>\n",
       "      <td>0.895226</td>\n",
       "      <td>0.899943</td>\n",
       "      <td>0.892241</td>\n",
       "      <td>0.004974</td>\n",
       "      <td>4</td>\n",
       "    </tr>\n",
       "    <tr>\n",
       "      <th>3</th>\n",
       "      <td>17.463866</td>\n",
       "      <td>0.413260</td>\n",
       "      <td>0.108682</td>\n",
       "      <td>0.001109</td>\n",
       "      <td>0.01</td>\n",
       "      <td>1000</td>\n",
       "      <td>{'learning_rate': 0.01, 'n_estimators': 1000}</td>\n",
       "      <td>0.917096</td>\n",
       "      <td>0.920704</td>\n",
       "      <td>0.919257</td>\n",
       "      <td>0.928117</td>\n",
       "      <td>0.927352</td>\n",
       "      <td>0.922505</td>\n",
       "      <td>0.004428</td>\n",
       "      <td>3</td>\n",
       "    </tr>\n",
       "  </tbody>\n",
       "</table>\n",
       "</div>"
      ],
      "text/plain": [
       "   mean_fit_time  std_fit_time  mean_score_time  std_score_time  \\\n",
       "0       1.749145      0.041120         0.009388        0.000191   \n",
       "1      16.676295      0.410902         0.109577        0.001852   \n",
       "2       1.852213      0.043305         0.006351        0.000147   \n",
       "3      17.463866      0.413260         0.108682        0.001109   \n",
       "\n",
       "  param_learning_rate param_n_estimators  \\\n",
       "0                 0.1                100   \n",
       "1                 0.1               1000   \n",
       "2                0.01                100   \n",
       "3                0.01               1000   \n",
       "\n",
       "                                          params  split0_test_score  \\\n",
       "0    {'learning_rate': 0.1, 'n_estimators': 100}           0.917272   \n",
       "1   {'learning_rate': 0.1, 'n_estimators': 1000}           0.925754   \n",
       "2   {'learning_rate': 0.01, 'n_estimators': 100}           0.888223   \n",
       "3  {'learning_rate': 0.01, 'n_estimators': 1000}           0.917096   \n",
       "\n",
       "   split1_test_score  split2_test_score  split3_test_score  split4_test_score  \\\n",
       "0           0.921858           0.919333           0.928066           0.927739   \n",
       "1           0.925980           0.924852           0.931898           0.931792   \n",
       "2           0.891827           0.885985           0.895226           0.899943   \n",
       "3           0.920704           0.919257           0.928117           0.927352   \n",
       "\n",
       "   mean_test_score  std_test_score  rank_test_score  \n",
       "0         0.922854        0.004372                2  \n",
       "1         0.928055        0.003117                1  \n",
       "2         0.892241        0.004974                4  \n",
       "3         0.922505        0.004428                3  "
      ]
     },
     "execution_count": 13,
     "metadata": {},
     "output_type": "execute_result"
    }
   ],
   "source": [
    "pd.DataFrame(clf.cv_results_)"
   ]
  },
  {
   "cell_type": "code",
   "execution_count": null,
   "id": "67e2b56c",
   "metadata": {},
   "outputs": [],
   "source": []
  }
 ],
 "metadata": {
  "kernelspec": {
   "display_name": "Python 3 (ipykernel)",
   "language": "python",
   "name": "python3"
  },
  "language_info": {
   "codemirror_mode": {
    "name": "ipython",
    "version": 3
   },
   "file_extension": ".py",
   "mimetype": "text/x-python",
   "name": "python",
   "nbconvert_exporter": "python",
   "pygments_lexer": "ipython3",
   "version": "3.10.9"
  }
 },
 "nbformat": 4,
 "nbformat_minor": 5
}
