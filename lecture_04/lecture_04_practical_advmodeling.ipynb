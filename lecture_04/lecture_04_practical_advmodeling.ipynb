{
 "cells": [
  {
   "cell_type": "code",
   "execution_count": 1,
   "id": "529239e1",
   "metadata": {},
   "outputs": [],
   "source": [
    "import pandas as pd\n",
    "from sklearn.model_selection import train_test_split\n",
    "\n",
    "from sklearn.preprocessing import OneHotEncoder\n",
    "from sklearn.impute import SimpleImputer\n",
    "from sklearn.compose import ColumnTransformer\n",
    "from sklearn.pipeline import Pipeline\n",
    "from sklearn.model_selection import GridSearchCV\n",
    "\n",
    "from sklearn.linear_model import LogisticRegression\n",
    "from sklearn.ensemble import GradientBoostingClassifier, RandomForestClassifier\n",
    "from sklearn.metrics import roc_auc_score, confusion_matrix, RocCurveDisplay\n",
    "import matplotlib.pyplot as plt"
   ]
  },
  {
   "cell_type": "code",
   "execution_count": 2,
   "id": "435c2dcc",
   "metadata": {},
   "outputs": [],
   "source": [
    "pd.set_option('display.max_rows', 500)"
   ]
  },
  {
   "cell_type": "code",
   "execution_count": 3,
   "id": "11d1000e",
   "metadata": {},
   "outputs": [],
   "source": [
    "df = pd.read_csv('../lecture_03/lecture_03_data.csv',\n",
    "                names = ['age',\n",
    "                         'workclass',\n",
    "                         'fnlwgt',\n",
    "                         'education',\n",
    "                         'education-num',\n",
    "                         'marital-status',\n",
    "                         'occupation',\n",
    "                         'relationship',\n",
    "                         'race',\n",
    "                         'sex',\n",
    "                         'capital-gain',\n",
    "                         'capital-loss',\n",
    "                         'hours-per-week',\n",
    "                         'native-country',\n",
    "                         'income'])"
   ]
  },
  {
   "cell_type": "code",
   "execution_count": 4,
   "id": "2f4c1c8f",
   "metadata": {},
   "outputs": [],
   "source": [
    "num_vars = ['age', 'fnlwgt', 'education-num', 'capital-gain', 'capital-loss', 'hours-per-week']\n",
    "cat_vars = ['workclass', 'education', 'marital-status', 'occupation', 'relationship', 'race', 'sex', 'native-country']\n",
    "target = 'income'"
   ]
  },
  {
   "cell_type": "code",
   "execution_count": 5,
   "id": "983f5fb8",
   "metadata": {},
   "outputs": [],
   "source": [
    "X = df[num_vars + cat_vars]\n",
    "y = df[target].replace({' <=50K': 0, ' >50K': 1})\n",
    "X_train, X_test, y_train, y_test = train_test_split(X, y, test_size=0.2, random_state=4)"
   ]
  },
  {
   "cell_type": "code",
   "execution_count": 6,
   "id": "15a3b664",
   "metadata": {},
   "outputs": [],
   "source": [
    "numeric_tx = Pipeline(steps=[\n",
    "    ('imputer', SimpleImputer(strategy='median')),\n",
    "])\n",
    "cat_tx = Pipeline(steps=[\n",
    "    ('imputer', SimpleImputer(strategy='most_frequent')),\n",
    "    ('encoder', OneHotEncoder(handle_unknown='ignore'))\n",
    "])"
   ]
  },
  {
   "cell_type": "code",
   "execution_count": 7,
   "id": "72d37980",
   "metadata": {},
   "outputs": [],
   "source": [
    "preprocessor = ColumnTransformer(transformers=[\n",
    "    ('numeric', numeric_tx, num_vars),\n",
    "    ('categorical', cat_tx, cat_vars)\n",
    "])"
   ]
  },
  {
   "cell_type": "code",
   "execution_count": 25,
   "id": "d3d8594f",
   "metadata": {},
   "outputs": [],
   "source": [
    "# param_grid = {'learning_rate': [0.05, 0.01], 'n_estimators': [10, 800]}\n",
    "param_grid = {'min_samples_leaf': [1, 5], 'n_estimators': [500]}  #RF"
   ]
  },
  {
   "cell_type": "code",
   "execution_count": 26,
   "id": "f5f52ebf",
   "metadata": {},
   "outputs": [],
   "source": [
    "rf = RandomForestClassifier()\n",
    "#gbm = GradientBoostingClassifier()\n",
    "clf = GridSearchCV(gbm, param_grid, scoring='roc_auc')"
   ]
  },
  {
   "cell_type": "code",
   "execution_count": 27,
   "id": "cdcb8d40",
   "metadata": {},
   "outputs": [],
   "source": [
    "pipeline = Pipeline(steps=[('preprocessor', preprocessor), ('classifier', clf)])\n",
    "model_pipeline = pipeline.fit(X_train, y_train)\n",
    "preds = model_pipeline.predict_proba(X_test)"
   ]
  },
  {
   "cell_type": "code",
   "execution_count": 28,
   "id": "588d2119",
   "metadata": {},
   "outputs": [
    {
     "name": "stdout",
     "output_type": "stream",
     "text": [
      "0.923163616316264\n"
     ]
    }
   ],
   "source": [
    "print(roc_auc_score(y_test, preds[:,1]))"
   ]
  },
  {
   "cell_type": "code",
   "execution_count": 29,
   "id": "14dd6585",
   "metadata": {},
   "outputs": [
    {
     "data": {
      "text/html": [
       "<div>\n",
       "<style scoped>\n",
       "    .dataframe tbody tr th:only-of-type {\n",
       "        vertical-align: middle;\n",
       "    }\n",
       "\n",
       "    .dataframe tbody tr th {\n",
       "        vertical-align: top;\n",
       "    }\n",
       "\n",
       "    .dataframe thead th {\n",
       "        text-align: right;\n",
       "    }\n",
       "</style>\n",
       "<table border=\"1\" class=\"dataframe\">\n",
       "  <thead>\n",
       "    <tr style=\"text-align: right;\">\n",
       "      <th></th>\n",
       "      <th>mean_fit_time</th>\n",
       "      <th>std_fit_time</th>\n",
       "      <th>mean_score_time</th>\n",
       "      <th>std_score_time</th>\n",
       "      <th>param_min_samples_leaf</th>\n",
       "      <th>param_n_estimators</th>\n",
       "      <th>params</th>\n",
       "      <th>split0_test_score</th>\n",
       "      <th>split1_test_score</th>\n",
       "      <th>split2_test_score</th>\n",
       "      <th>split3_test_score</th>\n",
       "      <th>split4_test_score</th>\n",
       "      <th>mean_test_score</th>\n",
       "      <th>std_test_score</th>\n",
       "      <th>rank_test_score</th>\n",
       "    </tr>\n",
       "  </thead>\n",
       "  <tbody>\n",
       "    <tr>\n",
       "      <th>0</th>\n",
       "      <td>13.519662</td>\n",
       "      <td>0.341735</td>\n",
       "      <td>0.044872</td>\n",
       "      <td>0.000770</td>\n",
       "      <td>1</td>\n",
       "      <td>500</td>\n",
       "      <td>{'min_samples_leaf': 1, 'n_estimators': 500}</td>\n",
       "      <td>0.925805</td>\n",
       "      <td>0.926654</td>\n",
       "      <td>0.924298</td>\n",
       "      <td>0.932721</td>\n",
       "      <td>0.933085</td>\n",
       "      <td>0.928513</td>\n",
       "      <td>0.003665</td>\n",
       "      <td>2</td>\n",
       "    </tr>\n",
       "    <tr>\n",
       "      <th>1</th>\n",
       "      <td>13.340169</td>\n",
       "      <td>0.341372</td>\n",
       "      <td>0.044371</td>\n",
       "      <td>0.001228</td>\n",
       "      <td>5</td>\n",
       "      <td>500</td>\n",
       "      <td>{'min_samples_leaf': 5, 'n_estimators': 500}</td>\n",
       "      <td>0.926230</td>\n",
       "      <td>0.927232</td>\n",
       "      <td>0.924555</td>\n",
       "      <td>0.933845</td>\n",
       "      <td>0.933226</td>\n",
       "      <td>0.929018</td>\n",
       "      <td>0.003792</td>\n",
       "      <td>1</td>\n",
       "    </tr>\n",
       "  </tbody>\n",
       "</table>\n",
       "</div>"
      ],
      "text/plain": [
       "   mean_fit_time  std_fit_time  mean_score_time  std_score_time  \\\n",
       "0      13.519662      0.341735         0.044872        0.000770   \n",
       "1      13.340169      0.341372         0.044371        0.001228   \n",
       "\n",
       "  param_min_samples_leaf param_n_estimators  \\\n",
       "0                      1                500   \n",
       "1                      5                500   \n",
       "\n",
       "                                         params  split0_test_score  \\\n",
       "0  {'min_samples_leaf': 1, 'n_estimators': 500}           0.925805   \n",
       "1  {'min_samples_leaf': 5, 'n_estimators': 500}           0.926230   \n",
       "\n",
       "   split1_test_score  split2_test_score  split3_test_score  split4_test_score  \\\n",
       "0           0.926654           0.924298           0.932721           0.933085   \n",
       "1           0.927232           0.924555           0.933845           0.933226   \n",
       "\n",
       "   mean_test_score  std_test_score  rank_test_score  \n",
       "0         0.928513        0.003665                2  \n",
       "1         0.929018        0.003792                1  "
      ]
     },
     "execution_count": 29,
     "metadata": {},
     "output_type": "execute_result"
    }
   ],
   "source": [
    "pd.DataFrame(clf.cv_results_)"
   ]
  },
  {
   "cell_type": "code",
   "execution_count": null,
   "id": "67e2b56c",
   "metadata": {},
   "outputs": [],
   "source": []
  }
 ],
 "metadata": {
  "kernelspec": {
   "display_name": "dsba6156",
   "language": "python",
   "name": "dsba6156"
  },
  "language_info": {
   "codemirror_mode": {
    "name": "ipython",
    "version": 3
   },
   "file_extension": ".py",
   "mimetype": "text/x-python",
   "name": "python",
   "nbconvert_exporter": "python",
   "pygments_lexer": "ipython3",
   "version": "3.10.5"
  },
  "vscode": {
   "interpreter": {
    "hash": "700e8905a25f0f50942face02160144e5109d3578cd646c4a56141009e7b2bb8"
   }
  }
 },
 "nbformat": 4,
 "nbformat_minor": 5
}
